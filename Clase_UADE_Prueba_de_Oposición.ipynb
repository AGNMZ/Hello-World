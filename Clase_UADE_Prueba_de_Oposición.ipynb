{
  "nbformat": 4,
  "nbformat_minor": 0,
  "metadata": {
    "colab": {
      "provenance": [],
      "authorship_tag": "ABX9TyNBgxpA8EwgV2WKncXmbrF1",
      "include_colab_link": true
    },
    "kernelspec": {
      "name": "python3",
      "display_name": "Python 3"
    },
    "language_info": {
      "name": "python"
    }
  },
  "cells": [
    {
      "cell_type": "markdown",
      "metadata": {
        "id": "view-in-github",
        "colab_type": "text"
      },
      "source": [
        "<a href=\"https://colab.research.google.com/github/AGNMZ/Hello-World/blob/main/Clase_UADE_Prueba_de_Oposici%C3%B3n.ipynb\" target=\"_parent\"><img src=\"https://colab.research.google.com/assets/colab-badge.svg\" alt=\"Open In Colab\"/></a>"
      ]
    },
    {
      "cell_type": "markdown",
      "source": [
        "#####Funciones de ejemplo."
      ],
      "metadata": {
        "id": "O80GSZ9bsxcg"
      }
    },
    {
      "cell_type": "code",
      "source": [
        "def poner_agua_hervir(silencio=False):\n",
        "    if not silencio:\n",
        "        print(\"El agua está hirviendo...\")\n",
        "\n",
        "def echar_arroz_hervir(silencio=False):\n",
        "    if not silencio:\n",
        "        print(\"Echamos el arroz al agua hirviendo...\")\n",
        "\n",
        "def cortar_pollo(silencio=False):\n",
        "    if not silencio:\n",
        "        print(\"Cortamos el pollo en trozos pequeños...\")\n",
        "\n",
        "def freir_pollo(silencio=False):\n",
        "    if not silencio:\n",
        "        print(\"Freímos el pollo hasta que esté dorado...\")\n",
        "\n",
        "def mezclar_pollo_arroz(silencio=False):\n",
        "    if not silencio:\n",
        "        print(\"Mezclamos el pollo con el arroz...\")\n",
        "\n",
        "def cortar_zanahoria(silencio=False):\n",
        "    if not silencio:\n",
        "        print(\"Cortamos la zanahoria en rodajas...\")\n",
        "\n",
        "def freir_zanahoria(silencio=False):\n",
        "    if not silencio:\n",
        "        print(\"Freímos la zanahoria hasta que esté cocida...\")\n",
        "\n",
        "def mezclar_zanahoria_arroz(silencio=False):\n",
        "    if not silencio:\n",
        "        print(\"Mezclamos la zanahoria con el arroz...\")\n"
      ],
      "metadata": {
        "id": "dt3db2GCsbbN"
      },
      "execution_count": 3,
      "outputs": []
    },
    {
      "cell_type": "markdown",
      "source": [
        "# Introducción"
      ],
      "metadata": {
        "id": "o6SUqqZEosvb"
      }
    },
    {
      "cell_type": "markdown",
      "source": [
        "### Código como una receta"
      ],
      "metadata": {
        "id": "-1nAXeD3ojZX"
      }
    },
    {
      "cell_type": "code",
      "source": [
        "poner_agua_hervir()\n",
        "echar_arroz_hervir()\n",
        "cortar_pollo()\n",
        "freir_pollo()\n",
        "mezclar_pollo_arroz()"
      ],
      "metadata": {
        "colab": {
          "base_uri": "https://localhost:8080/"
        },
        "id": "_SJnAfKOqV8F",
        "outputId": "9e481db9-f185-46d8-e9ea-7e042efa622f"
      },
      "execution_count": null,
      "outputs": [
        {
          "output_type": "stream",
          "name": "stdout",
          "text": [
            "El agua está hirviendo...\n",
            "Echamos el arroz al agua hirviendo...\n",
            "Cortamos el pollo en trozos pequeños...\n",
            "Freímos el pollo hasta que esté dorado...\n",
            "Mezclamos el pollo con el arroz...\n"
          ]
        }
      ]
    },
    {
      "cell_type": "markdown",
      "source": [
        "#Estructuras condicionales"
      ],
      "metadata": {
        "id": "Fm-Jm2v1RINt"
      }
    },
    {
      "cell_type": "markdown",
      "source": [
        "##Decisiones en el código"
      ],
      "metadata": {
        "id": "AAQNYjdUsbCc"
      }
    },
    {
      "cell_type": "code",
      "source": [
        "vegetariano = False\n",
        "\n",
        "poner_agua_hervir()\n",
        "echar_arroz_hervir()\n",
        "if vegetariano:\n",
        "    cortar_zanahoria()\n",
        "    freir_zanahoria()\n",
        "    mezclar_zanahoria_arroz()\n",
        "else:\n",
        "    cortar_pollo()\n",
        "    freir_pollo()\n",
        "    mezclar_pollo_arroz()\n"
      ],
      "metadata": {
        "colab": {
          "base_uri": "https://localhost:8080/"
        },
        "id": "GnPMIRFPtqS1",
        "outputId": "bf7492ea-73b1-4ee3-c3c6-3935353c86db"
      },
      "execution_count": null,
      "outputs": [
        {
          "output_type": "stream",
          "name": "stdout",
          "text": [
            "El agua está hirviendo...\n",
            "Echamos el arroz al agua hirviendo...\n",
            "Cortamos el pollo en trozos pequeños...\n",
            "Freímos el pollo hasta que esté dorado...\n",
            "Mezclamos el pollo con el arroz...\n"
          ]
        }
      ]
    },
    {
      "cell_type": "markdown",
      "source": [
        "### Ejemplo de uso: Chequear division por cero.\n"
      ],
      "metadata": {
        "id": "SD97KYrYRd9E"
      }
    },
    {
      "cell_type": "code",
      "source": [
        "dividendo = int(input(\"Dame un numero dividendo \"))\n",
        "divisor = int(input(\"Dame otro numero divisor \"))\n",
        "\n",
        "if divisor != 0:\n",
        "    print(\"El resultado es \",dividendo/divisor)\n",
        "else:\n",
        "    print(\"No se puede dividir por cero\")\n"
      ],
      "metadata": {
        "colab": {
          "base_uri": "https://localhost:8080/"
        },
        "id": "3THexpPyRG1b",
        "outputId": "6f04e498-e246-4a83-a36b-e2ad960ce4c6"
      },
      "execution_count": null,
      "outputs": [
        {
          "output_type": "stream",
          "name": "stdout",
          "text": [
            "Dame un numero dividendo 6\n",
            "Dame otro numero divisor 0\n",
            "No se puede dividir por cero\n"
          ]
        }
      ]
    },
    {
      "cell_type": "markdown",
      "source": [
        "###¿Cual es el problema con este codigo?"
      ],
      "metadata": {
        "id": "1y2mlvebRHUB"
      }
    },
    {
      "cell_type": "code",
      "source": [
        "a = int(input(\"Dame un numero A \"))\n",
        "b = int(input(\"Dame otro numero B \"))\n",
        "if a > b:\n",
        "  print (f\"Gana A.\")\n",
        "else:\n",
        "  print (f\"Gana B.\")"
      ],
      "metadata": {
        "colab": {
          "base_uri": "https://localhost:8080/"
        },
        "id": "65aYNmF2PeRL",
        "outputId": "d469fba5-e4ed-41f0-fbe3-630a4700c547"
      },
      "execution_count": null,
      "outputs": [
        {
          "output_type": "stream",
          "name": "stdout",
          "text": [
            "Dame un numero A 5\n",
            "Dame otro numero B 5\n",
            "Gana B.\n"
          ]
        }
      ]
    },
    {
      "cell_type": "markdown",
      "source": [
        "### Uso de la sentencia pass\n"
      ],
      "metadata": {
        "id": "TwYF5SxnT0a1"
      }
    },
    {
      "cell_type": "code",
      "source": [
        "a = 10\n",
        "if a > 5:\n",
        "    pass"
      ],
      "metadata": {
        "id": "I4eTvhDgT_WV"
      },
      "execution_count": null,
      "outputs": []
    },
    {
      "cell_type": "markdown",
      "source": [],
      "metadata": {
        "id": "AkgQeJ_zXW4N"
      }
    },
    {
      "cell_type": "markdown",
      "source": [
        "### Ejercicios\n",
        "\n",
        " i. Diseñe un programa que, dado un número entero, muestre por pantalla el mensaje \"El numero es par\" cuando el número sea par y el mensaje \"El numero es impar\" cuando sea impar.\n",
        "\n",
        " ii.Un capital de C euros a un interés del x por cien anual durante n años se convierte en C*(1+x/100)<sup>n</sup> euros.\n",
        "Diseña un programa Python que solicite la cantidad C, el interés x y\n",
        "el número de años n y calcule el capital final solo si x es una cantidad positiva.\n",
        "\n",
        "iii. Diseñe un programa que detecte el maximo entre tres numeros enteros."
      ],
      "metadata": {
        "id": "HsRT47ZCUWIr"
      }
    },
    {
      "cell_type": "markdown",
      "source": [
        "#Estructuras Iterativas"
      ],
      "metadata": {
        "id": "l2LHSUz1W-YU"
      }
    },
    {
      "cell_type": "markdown",
      "source": [
        "##Sentencia For"
      ],
      "metadata": {
        "id": "uG82XtDAYREJ"
      }
    },
    {
      "cell_type": "markdown",
      "source": [
        "###Ejemplo de la receta.\n"
      ],
      "metadata": {
        "id": "7yj_R9IvYXCo"
      }
    },
    {
      "cell_type": "code",
      "source": [
        "platos_totales = 0 #Una variable que cuenta los platos que se prepararon\n",
        "s = True\n",
        "for i in range(5):\n",
        "    # Cocinamos la receta\n",
        "    poner_agua_hervir(s)\n",
        "    echar_arroz_hervir(s)\n",
        "    cortar_pollo(s)\n",
        "    freir_pollo(s)\n",
        "    mezclar_pollo_arroz(s)\n",
        "    platos_totales += 1\n",
        "    print(f\"Llevamos preparados {platos_totales} platos\")"
      ],
      "metadata": {
        "colab": {
          "base_uri": "https://localhost:8080/"
        },
        "id": "NaIV4lxzYaxx",
        "outputId": "5bbaee4c-112b-4783-b207-be9438a41f4c"
      },
      "execution_count": null,
      "outputs": [
        {
          "output_type": "stream",
          "name": "stdout",
          "text": [
            "Llevamos preparados 1 platos\n",
            "Llevamos preparados 2 platos\n",
            "Llevamos preparados 3 platos\n",
            "Llevamos preparados 4 platos\n",
            "Llevamos preparados 5 platos\n"
          ]
        }
      ]
    },
    {
      "cell_type": "markdown",
      "source": [
        "##Ejemplo con funcion iterables"
      ],
      "metadata": {
        "id": "K-oGHnspGZwt"
      }
    },
    {
      "cell_type": "code",
      "source": [
        "for i in range(0, 5):\n",
        "    print(i)\n"
      ],
      "metadata": {
        "colab": {
          "base_uri": "https://localhost:8080/"
        },
        "id": "AlgYyLcnGtnM",
        "outputId": "9b623e10-55cc-498e-f883-5d26ca439865"
      },
      "execution_count": 1,
      "outputs": [
        {
          "output_type": "stream",
          "name": "stdout",
          "text": [
            "0\n",
            "1\n",
            "2\n",
            "3\n",
            "4\n"
          ]
        }
      ]
    },
    {
      "cell_type": "code",
      "source": [
        "for i in \"Python\":\n",
        "    print(i)"
      ],
      "metadata": {
        "colab": {
          "base_uri": "https://localhost:8080/"
        },
        "id": "De4emdxIG2PC",
        "outputId": "8a0e930a-5530-4347-afb5-0220aeb7a818"
      },
      "execution_count": 2,
      "outputs": [
        {
          "output_type": "stream",
          "name": "stdout",
          "text": [
            "P\n",
            "y\n",
            "t\n",
            "h\n",
            "o\n",
            "n\n"
          ]
        }
      ]
    },
    {
      "cell_type": "markdown",
      "source": [
        "##Suma de cuadrados"
      ],
      "metadata": {
        "id": "_Ya3ByhpZHmP"
      }
    },
    {
      "cell_type": "code",
      "source": [
        "# Inicializamos la suma en 0\n",
        "suma_cuadrados = 0\n",
        "\n",
        "# Iteramos sobre los primeros 5 números\n",
        "for numero in range(1, 6):\n",
        "    suma_cuadrados += numero ** 2  # Sumamos el cuadrado de cada número\n",
        "\n",
        "# Mostramos el resultado\n",
        "print(f\"La suma de los cuadrados de los primeros 5 números es: {suma_cuadrados}\")\n"
      ],
      "metadata": {
        "id": "r8a3w9L1ZGrY"
      },
      "execution_count": null,
      "outputs": []
    },
    {
      "cell_type": "markdown",
      "source": [
        "##Saber si un numero es primo"
      ],
      "metadata": {
        "id": "oBL5cEuCZQaW"
      }
    },
    {
      "cell_type": "code",
      "source": [
        "numero = 7  # El número a verificar\n",
        "creo_que_es_primo = True  # Inicialmente asumimos que es primo\n",
        "\n",
        "# Usamos un bucle for para comprobar si el número es divisible por algún número entre 2 y número-1\n",
        "for divisor in range(2, numero):\n",
        "    if numero % divisor == 0:  # Si encontramos un divisor, no es primo\n",
        "        creo_que_es_primo = False\n",
        "        break  # Salimos del bucle si ya sabemos que no es primo\n",
        "\n",
        "# Verificamos el resultado y mostramos el mensaje adecuado\n",
        "if creo_que_es_primo:\n",
        "    print(f\"{numero} es un número primo.\")\n",
        "else:\n",
        "    print(f\"{numero} no es un número primo.\")"
      ],
      "metadata": {
        "id": "sSJ-SFupY27b"
      },
      "execution_count": null,
      "outputs": []
    },
    {
      "cell_type": "markdown",
      "source": [
        "##Ejercicios"
      ],
      "metadata": {
        "id": "wUw7qMJ6c3T7"
      }
    },
    {
      "cell_type": "markdown",
      "source": [
        "i.Haz un programa que calcule el máximo común divisor (mcd) de dos enteros positivos.\n",
        "El mcd es el número más grande que divide exactamente a ambos números.\n",
        "\n",
        "ii.Haz un programa que pida el valor de dos enteros n y m y devuelva la sumatoria de todos los numeros comprendidos entre ellos"
      ],
      "metadata": {
        "id": "ky-9iVYTc90M"
      }
    },
    {
      "cell_type": "markdown",
      "source": [
        "#Sentencia While"
      ],
      "metadata": {
        "id": "Fi3Zn1pJbqjD"
      }
    },
    {
      "cell_type": "markdown",
      "source": [
        "##Ejemplo de la receta"
      ],
      "metadata": {
        "id": "7WbNnZyMbtLS"
      }
    },
    {
      "cell_type": "code",
      "source": [
        "platos_totales = 0  # Variable que cuenta los platos que se prepararon\n",
        "s = True\n",
        "comensales = 5  # Número inicial de comensales\n",
        "\n",
        "# Bucle while que continúa hasta que no haya comensales\n",
        "while comensales > 0:\n",
        "    # Cocinamos la receta\n",
        "    poner_agua_hervir(s)\n",
        "    echar_arroz_hervir(s)\n",
        "    cortar_pollo(s)\n",
        "    freir_pollo(s)\n",
        "    mezclar_pollo_arroz(s)\n",
        "\n",
        "    platos_totales += 1\n",
        "    comensales -= 1  # Restamos un comensal que ya recibió su plato\n",
        "    print(f\"Llevamos preparados {platos_totales} platos. Comensales restantes: {comensales}\")\n"
      ],
      "metadata": {
        "colab": {
          "base_uri": "https://localhost:8080/"
        },
        "id": "VxiYdUnXbu5g",
        "outputId": "642efec6-3e39-4358-e023-253dabac92ec"
      },
      "execution_count": 4,
      "outputs": [
        {
          "output_type": "stream",
          "name": "stdout",
          "text": [
            "Llevamos preparados 1 platos. Comensales restantes: 4\n",
            "Llevamos preparados 2 platos. Comensales restantes: 3\n",
            "Llevamos preparados 3 platos. Comensales restantes: 2\n",
            "Llevamos preparados 4 platos. Comensales restantes: 1\n",
            "Llevamos preparados 5 platos. Comensales restantes: 0\n"
          ]
        }
      ]
    },
    {
      "cell_type": "markdown",
      "source": [
        "##Arbol de Navidad"
      ],
      "metadata": {
        "id": "d4CLaGFWcPtA"
      }
    },
    {
      "cell_type": "code",
      "source": [
        "z = 5\n",
        "x = 1\n",
        "while z > 0:\n",
        "    print(' ' * z + '*' * x + ' ' * z)\n",
        "    x+=2\n",
        "    z-=1"
      ],
      "metadata": {
        "colab": {
          "base_uri": "https://localhost:8080/"
        },
        "id": "GHrmraDNcTqG",
        "outputId": "47d94b99-a3c2-462e-d231-2456d5163f47"
      },
      "execution_count": 6,
      "outputs": [
        {
          "output_type": "stream",
          "name": "stdout",
          "text": [
            "     *     \n",
            "    ***    \n",
            "   *****   \n",
            "  *******  \n",
            " ********* \n"
          ]
        }
      ]
    },
    {
      "cell_type": "markdown",
      "source": [
        "##Fibonacci"
      ],
      "metadata": {
        "id": "Pn12iuItcTJ_"
      }
    },
    {
      "cell_type": "code",
      "source": [
        "a, b = 0, 1\n",
        "while b < 25:\n",
        "    print(b)\n",
        "    a, b = b, a + b"
      ],
      "metadata": {
        "id": "-1Rp9kBZcxp4"
      },
      "execution_count": null,
      "outputs": []
    },
    {
      "cell_type": "markdown",
      "source": [
        "###Ejercicios Integradores"
      ],
      "metadata": {
        "id": "h0I-CZlAfbPr"
      }
    },
    {
      "cell_type": "markdown",
      "source": [
        "Una pelota de goma es arrojada desde una altura de 100 metros y cada vez que toca el piso salta 3/5 de la altura desde la que cayó. Escribí un programa que de la tabla de los rebotes hasta que la pelota rebote menos de un metro."
      ],
      "metadata": {
        "id": "uwJ-rrVQfgts"
      }
    },
    {
      "cell_type": "code",
      "source": [
        "mul_rebote = 3/5  # Proporción de rebote\n",
        "altura = 100  # Altura inicial\n",
        "cont = 1  # Contador de rebotes\n",
        "\n",
        "# Bucle while que continúa hasta que la altura del rebote sea menor a 1 metro\n",
        "while altura >= 1:\n",
        "    altura *= mul_rebote\n",
        "    print(f\"Rebote {cont}: {round(altura, 4)} metros\")\n",
        "    cont += 1"
      ],
      "metadata": {
        "colab": {
          "base_uri": "https://localhost:8080/"
        },
        "id": "eyRn_6KPffpU",
        "outputId": "aaf5538c-59f8-4a02-8a49-4906c3340fef"
      },
      "execution_count": 9,
      "outputs": [
        {
          "output_type": "stream",
          "name": "stdout",
          "text": [
            "Rebote 1: 60.0 metros\n",
            "Rebote 2: 36.0 metros\n",
            "Rebote 3: 21.6 metros\n",
            "Rebote 4: 12.96 metros\n",
            "Rebote 5: 7.776 metros\n",
            "Rebote 6: 4.6656 metros\n",
            "Rebote 7: 2.7994 metros\n",
            "Rebote 8: 1.6796 metros\n",
            "Rebote 9: 1.0078 metros\n",
            "Rebote 10: 0.6047 metros\n"
          ]
        }
      ]
    },
    {
      "cell_type": "markdown",
      "source": [
        "##Geringoso"
      ],
      "metadata": {
        "id": "9haO4zloiI5R"
      }
    },
    {
      "cell_type": "markdown",
      "source": [
        "Usá una iteración sobre el string cadena para agregar la sílaba 'pa', 'pe',\n",
        "'pi', 'po', o 'pu' según corresponda luego de cada vocal.\n",
        "Podés probar tu código cambiando la cadena inicial por otra palabra,\n",
        "como 'apa' o 'boligoma'.\n"
      ],
      "metadata": {
        "id": "iuR3qRHtibaK"
      }
    },
    {
      "cell_type": "code",
      "source": [
        "cadena = 'boligoma'\n",
        "capadepenapa = ''"
      ],
      "metadata": {
        "id": "p_M6Ojv4iMH4"
      },
      "execution_count": null,
      "outputs": []
    },
    {
      "cell_type": "markdown",
      "source": [],
      "metadata": {
        "id": "VFfQLnvRiL1I"
      }
    },
    {
      "cell_type": "markdown",
      "source": [
        "##La hipoteca de David"
      ],
      "metadata": {
        "id": "FhPdHJSbgn-q"
      }
    },
    {
      "cell_type": "markdown",
      "source": [
        "David solicitó un crédito a 30 años para comprar una vivienda, con una tasa\n",
        "fija nominal anual del 5%. Pidió 500000 al banco y acordó un pago mensual\n",
        "fijo de $2684,11.\n",
        "\n",
        "El siguiente es un programa que calcula el monto total que pagará David a\n",
        "lo largo de los años:"
      ],
      "metadata": {
        "id": "tKUiQsZqgrtg"
      }
    },
    {
      "cell_type": "code",
      "source": [
        "saldo = 500000.0\n",
        "tasa = 0.05\n",
        "pago_mensual = 2684.11\n",
        "total_pagado = 0.0\n",
        "\n",
        "while saldo > 0:\n",
        "    saldo = saldo * (1+tasa/12) - pago_mensual\n",
        "    total_pagado = total_pagado + pago_mensual\n",
        "\n",
        "print('Total pagado', round(total_pagado, 2))"
      ],
      "metadata": {
        "id": "Jy7uhVgGfeyZ"
      },
      "execution_count": null,
      "outputs": []
    },
    {
      "cell_type": "markdown",
      "source": [
        "Supongamos que David adelanta pagos extra de $1000/mes durante los primeros\n",
        "12 meses de la hipoteca.\n",
        "\n",
        "Modificá el programa para incorporar estos pagos extra y que imprima el\n",
        "monto total pagado junto con la cantidad de meses requeridos.\n",
        "\n",
        "Cuando lo corras, este nuevo programa debería dar un pago total de 929965.62\n",
        "en 342 meses.\n",
        "\n",
        "Aclaración: aunque puede parecer sencillo, este ejercicio requiere que agregues\n",
        "una variable mes y que prestes bastante atención a cuándo la incrementás, con\n",
        "qué valor entra al ciclo y con qué valor sale del ciclo. Una posiblidad es\n",
        "inicializar mes en 0 y otra es inicializarla en 1. En el primer caso es\n",
        "problable que la variable salga del ciclo contando la cantidad de pagos que\n",
        "se hicieron, en el segundo, ¡es probable que salga contando la cantidad de\n",
        "pagos más uno!"
      ],
      "metadata": {
        "id": "116rlXU0g5gW"
      }
    },
    {
      "cell_type": "code",
      "source": [],
      "metadata": {
        "id": "Q_Kc9Hh2g6Z5"
      },
      "execution_count": null,
      "outputs": []
    },
    {
      "cell_type": "markdown",
      "source": [
        "¿Cuánto pagaría David si agrega $1000 por mes durante cuatro años,\n",
        "comenzando en el sexto año de la hipoteca (es decir, luego de 5 años)?\n",
        "\n",
        "Modificá tu programa de forma que la información sobre pagos extras sea\n",
        "incorporada de manera versátil. Agregá las siguientes variables antes del\n",
        "ciclo, para definir el comienzo, fin y monto de los pagos extras:\n",
        "\n",
        "pago_extra_mes_comienzo = 61\n",
        "pago_extra_mes_fin = 108\n",
        "pago_extra = 1000\n",
        "Hacé que el programa tenga en cuenta estas variables para calcular el total\n",
        "a pagar apropiadamente."
      ],
      "metadata": {
        "id": "WuvZi79Ug6uJ"
      }
    },
    {
      "cell_type": "code",
      "source": [],
      "metadata": {
        "id": "Jm78QP70hKPO"
      },
      "execution_count": null,
      "outputs": []
    },
    {
      "cell_type": "markdown",
      "source": [
        "Modicá tu programa para que imprima una tabla mostrando el mes, el total\n",
        "pagado hasta el momento y el saldo restante. La salida debería verse\n",
        "aproximadamente así:\n",
        "\n",
        "1.   2684.11 499399.22\n",
        "2.   5368.22 498795.94\n",
        "3.   8052.33 498190.15\n",
        "4.   10736.44 497581.83\n",
        "5.   ...\n",
        "310.   880074.1 -1871.53\n",
        "\n",
        "Total pagado:  880074.1\n",
        "\n",
        "Meses:  310"
      ],
      "metadata": {
        "id": "5uk47OfgiyI-"
      }
    },
    {
      "cell_type": "code",
      "source": [],
      "metadata": {
        "id": "kuOAIsqGjmg8"
      },
      "execution_count": null,
      "outputs": []
    },
    {
      "cell_type": "markdown",
      "source": [
        "Ya que estamos, corregí el código anterior de forma que el pago del último\n",
        "mes se ajuste a lo adeudado.\n"
      ],
      "metadata": {
        "id": "vENTWF99hKoc"
      }
    },
    {
      "cell_type": "code",
      "source": [],
      "metadata": {
        "id": "dm8WtRKSjswe"
      },
      "execution_count": null,
      "outputs": []
    }
  ]
}